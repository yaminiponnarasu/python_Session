{
  "nbformat": 4,
  "nbformat_minor": 0,
  "metadata": {
    "colab": {
      "provenance": [],
      "authorship_tag": "ABX9TyOgcwAGgSpg1GdDdjav/7Ik",
      "include_colab_link": true
    },
    "kernelspec": {
      "name": "python3",
      "display_name": "Python 3"
    },
    "language_info": {
      "name": "python"
    }
  },
  "cells": [
    {
      "cell_type": "markdown",
      "metadata": {
        "id": "view-in-github",
        "colab_type": "text"
      },
      "source": [
        "<a href=\"https://colab.research.google.com/github/yaminiponnarasu/python_Session/blob/main/Control%20Statements.ipynb\" target=\"_parent\"><img src=\"https://colab.research.google.com/assets/colab-badge.svg\" alt=\"Open In Colab\"/></a>"
      ]
    },
    {
      "cell_type": "markdown",
      "source": [
        "***To Find Leap Year***\n",
        "\n"
      ],
      "metadata": {
        "id": "Jw_DTntu12qR"
      }
    },
    {
      "cell_type": "code",
      "execution_count": null,
      "metadata": {
        "colab": {
          "base_uri": "https://localhost:8080/"
        },
        "id": "KHxupRtWqjjn",
        "outputId": "6ffece92-c3f3-426a-903f-f1f3fbacb51e"
      },
      "outputs": [
        {
          "output_type": "stream",
          "name": "stdout",
          "text": [
            "enter the year2003\n",
            "not leap year)\n"
          ]
        }
      ],
      "source": [
        "year=int(input(\"enter the year\"))\n",
        "if year%4==0:\n",
        "  print(\"Leap year\")\n",
        "else:\n",
        "  print(\"not leap year\")\n"
      ]
    },
    {
      "cell_type": "markdown",
      "source": [
        "***Write a program to get number from user between 1 to 7, 1 corresponding sunday to 7 corresponding saturday***"
      ],
      "metadata": {
        "id": "G7FAZEMB2EU4"
      }
    },
    {
      "cell_type": "code",
      "source": [
        "num=int(input(\"Enter the number\"))\n",
        "day=num-1\n",
        "days=[\"sunday\",\"Monday\",\"Tuesday\",\"Wednesday\",\"Thursday\",\"Friday\",\"Saturday\"]\n",
        "if day<7:\n",
        " print(days[day])\n",
        "else:\n",
        " print(\"Please enter number from 1 to 7\")\n"
      ],
      "metadata": {
        "colab": {
          "base_uri": "https://localhost:8080/"
        },
        "id": "KpRqz2m6xHC_",
        "outputId": "a2d04978-f5b4-4990-bf13-b05c0c0ed5c8"
      },
      "execution_count": 13,
      "outputs": [
        {
          "output_type": "stream",
          "name": "stdout",
          "text": [
            "Enter the number1\n",
            "sunday\n"
          ]
        }
      ]
    },
    {
      "cell_type": "code",
      "source": [
        "day = int(input(\"enter a number :\" ))\n",
        "if day == 1:\n",
        "  print(\"Sunday\")\n",
        "if day == 2:\n",
        "  print(\"Monday\")\n",
        "if day == 3:\n",
        "  print(\"Tuesday\")\n",
        "if day == 4:\n",
        "  print(\"Wednesday\")\n",
        "if day == 5:\n",
        "  print(\"Thursday\")\n",
        "if day == 6:\n",
        "  print(\"Friday\")\n",
        "if day == 7:\n",
        "  print(\"Saturday\")"
      ],
      "metadata": {
        "id": "mXP2ALG64T9P"
      },
      "execution_count": null,
      "outputs": []
    }
  ]
}