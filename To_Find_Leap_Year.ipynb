{
  "nbformat": 4,
  "nbformat_minor": 0,
  "metadata": {
    "colab": {
      "provenance": [],
      "authorship_tag": "ABX9TyMD4X+vv8K5wNpareHR9Zri"
    },
    "kernelspec": {
      "name": "python3",
      "display_name": "Python 3"
    },
    "language_info": {
      "name": "python"
    }
  },
  "cells": [
    {
      "cell_type": "code",
      "execution_count": null,
      "metadata": {
        "colab": {
          "base_uri": "https://localhost:8080/"
        },
        "id": "KHxupRtWqjjn",
        "outputId": "6ffece92-c3f3-426a-903f-f1f3fbacb51e"
      },
      "outputs": [
        {
          "output_type": "stream",
          "name": "stdout",
          "text": [
            "enter the year2003\n",
            "not leap year)\n"
          ]
        }
      ],
      "source": [
        "year=int(input(\"enter the year\"))\n",
        "if year%4==0:\n",
        "  print(\"Leap year\")\n",
        "else:\n",
        "  print(\"not leap year\")\n"
      ]
    },
    {
      "cell_type": "code",
      "source": [
        "num=int(input(\"Enter the number\"))\n",
        "day=num-1\n",
        "days=[\"sunday\",\"Monday\",\"Tuesday\",\"Wednesday\",\"Thursday\",\"Friday\",\"Saturday\"]\n",
        "if day<7:\n",
        " print(days[day])\n",
        "else:\n",
        " print(\"Please enter number from 1 to 7\")\n"
      ],
      "metadata": {
        "id": "KpRqz2m6xHC_",
        "outputId": "a2d04978-f5b4-4990-bf13-b05c0c0ed5c8",
        "colab": {
          "base_uri": "https://localhost:8080/"
        }
      },
      "execution_count": 13,
      "outputs": [
        {
          "output_type": "stream",
          "name": "stdout",
          "text": [
            "Enter the number1\n",
            "sunday\n"
          ]
        }
      ]
    }
  ]
}